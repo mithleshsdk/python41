{
 "cells": [
  {
   "cell_type": "code",
   "execution_count": 1,
   "metadata": {},
   "outputs": [],
   "source": [
    "cities=['hyd','guntur']"
   ]
  },
  {
   "cell_type": "code",
   "execution_count": 3,
   "metadata": {},
   "outputs": [
    {
     "name": "stdout",
     "output_type": "stream",
     "text": [
      "program completed\n"
     ]
    }
   ],
   "source": [
    "city='Chennai'\n",
    "\n",
    "\n",
    "\n",
    "if city in cities:\n",
    "    print(\"ohyay\")\n",
    "print('program completed')"
   ]
  },
  {
   "cell_type": "code",
   "execution_count": 6,
   "metadata": {},
   "outputs": [
    {
     "name": "stdin",
     "output_type": "stream",
     "text": [
      "e4nter value\n",
      " 21\n"
     ]
    },
    {
     "name": "stdout",
     "output_type": "stream",
     "text": [
      "values printed\n",
      "program completed\n"
     ]
    }
   ],
   "source": [
    "n=int(input(\"e4nter value\\n\"))\n",
    "\n",
    "if n==1:\n",
    "    print(\"Enter value is one\")\n",
    "elif n==2:\n",
    "    print(\"Enter value is 2\")\n",
    "else:\n",
    "    print(\"values printed\")\n",
    "print(\"program completed\")\n",
    "\n"
   ]
  },
  {
   "cell_type": "code",
   "execution_count": 1,
   "metadata": {},
   "outputs": [
    {
     "name": "stdout",
     "output_type": "stream",
     "text": [
      "Enter characterhg\n",
      "not an owel\n"
     ]
    }
   ],
   "source": [
    "ch=input(\"Enter character\")\n",
    "vowels=['a','e','i','o','u']\n",
    "\n",
    "if ch in vowels:\n",
    "    print(\"Entered value is vowel\")\n",
    "else:\n",
    "    print(\"not an owel\")\n",
    "\n"
   ]
  },
  {
   "cell_type": "code",
   "execution_count": 2,
   "metadata": {},
   "outputs": [
    {
     "name": "stdout",
     "output_type": "stream",
     "text": [
      "e4nter value\n",
      "323\n",
      "Enter value is odd\n",
      "program completed\n"
     ]
    }
   ],
   "source": [
    "n=int(input(\"e4nter value\\n\"))\n",
    "\n",
    "if n%2==1:\n",
    "    print(\"Enter value is odd\")\n",
    "else:\n",
    "    print(\"values is even\")\n",
    "print(\"program completed\")\n"
   ]
  },
  {
   "cell_type": "code",
   "execution_count": 2,
   "metadata": {},
   "outputs": [
    {
     "name": "stdout",
     "output_type": "stream",
     "text": [
      "1\n",
      "1\n",
      "2\n",
      "3\n",
      "5\n",
      "8\n"
     ]
    }
   ],
   "source": [
    "x,y=0,1\n",
    "\n",
    "while y<10:\n",
    "    print(y)\n",
    "    x,y=y,x+y"
   ]
  },
  {
   "cell_type": "code",
   "execution_count": 2,
   "metadata": {},
   "outputs": [
    {
     "data": {
      "text/plain": [
       "23.22"
      ]
     },
     "execution_count": 2,
     "metadata": {},
     "output_type": "execute_result"
    }
   ],
   "source": [
    "dict = {1:20.5, 2:3.03, 3:23.22, 4:33.12}\n",
    "\n",
    "dict[3]"
   ]
  },
  {
   "cell_type": "code",
   "execution_count": 9,
   "metadata": {},
   "outputs": [
    {
     "name": "stdout",
     "output_type": "stream",
     "text": [
      "Red 1\n",
      "Green 2\n",
      "Blue 4\n"
     ]
    }
   ],
   "source": [
    "d = {'Red': 1, 'Green': 2, 'Blue': 4} \n",
    "\n",
    "for a,b in d.items():\n",
    "    print(a,d[a])\n"
   ]
  },
  {
   "cell_type": "code",
   "execution_count": 4,
   "metadata": {},
   "outputs": [
    {
     "name": "stdout",
     "output_type": "stream",
     "text": [
      "A\n",
      "R\n",
      "Y\n",
      "A\n"
     ]
    }
   ],
   "source": [
    "str1=\"ARYA\"\n",
    "\n",
    "# cnt=0\n",
    "\n",
    "for i in str1:\n",
    "    cnt+1\n",
    "    print(i)\n",
    "    \n"
   ]
  },
  {
   "cell_type": "code",
   "execution_count": 22,
   "metadata": {},
   "outputs": [
    {
     "name": "stdout",
     "output_type": "stream",
     "text": [
      "0\n",
      "1\n",
      "1\n",
      "2\n",
      "3\n",
      "5\n",
      "8\n",
      "13\n",
      "21\n",
      "34\n"
     ]
    }
   ],
   "source": [
    "def fib(n):\n",
    "    if n<=1:\n",
    "        return n\n",
    "    else:\n",
    "        return(fib(n-1)+fib(n-2))\n",
    "    \n",
    "nterms=10\n",
    "\n"
   ]
  },
  {
   "cell_type": "code",
   "execution_count": 23,
   "metadata": {},
   "outputs": [
    {
     "name": "stdout",
     "output_type": "stream",
     "text": [
      "0\n",
      "1\n",
      "1\n",
      "2\n",
      "3\n",
      "5\n",
      "8\n",
      "13\n",
      "21\n",
      "34\n"
     ]
    }
   ],
   "source": [
    "\n",
    "if nterms<= 0:\n",
    "    print(\"postive number\")\n",
    "else:\n",
    "    for i in range(nterms):\n",
    "        print(fib(i))  "
   ]
  },
  {
   "cell_type": "code",
   "execution_count": 3,
   "metadata": {},
   "outputs": [
    {
     "ename": "MemoryError",
     "evalue": "",
     "output_type": "error",
     "traceback": [
      "\u001b[1;31m---------------------------------------------------------------------------\u001b[0m",
      "\u001b[1;31mMemoryError\u001b[0m                               Traceback (most recent call last)",
      "\u001b[1;32m<ipython-input-3-e9f1ab7ab8e6>\u001b[0m in \u001b[0;36m<module>\u001b[1;34m\u001b[0m\n\u001b[0;32m      1\u001b[0m \u001b[0mcities\u001b[0m\u001b[1;33m=\u001b[0m\u001b[1;33m[\u001b[0m\u001b[1;34m'Hyderabad'\u001b[0m\u001b[1;33m,\u001b[0m\u001b[1;34m'Bengalore'\u001b[0m\u001b[1;33m]\u001b[0m\u001b[1;33m\u001b[0m\u001b[1;33m\u001b[0m\u001b[0m\n\u001b[0;32m      2\u001b[0m \u001b[1;32mfor\u001b[0m \u001b[0mi\u001b[0m \u001b[1;32min\u001b[0m \u001b[0mcities\u001b[0m\u001b[1;33m:\u001b[0m\u001b[1;33m\u001b[0m\u001b[1;33m\u001b[0m\u001b[0m\n\u001b[1;32m----> 3\u001b[1;33m     \u001b[0mcities\u001b[0m\u001b[1;33m.\u001b[0m\u001b[0mappend\u001b[0m\u001b[1;33m(\u001b[0m\u001b[0mi\u001b[0m\u001b[1;33m.\u001b[0m\u001b[0mupper\u001b[0m\u001b[1;33m(\u001b[0m\u001b[1;33m)\u001b[0m\u001b[1;33m)\u001b[0m\u001b[1;33m\u001b[0m\u001b[1;33m\u001b[0m\u001b[0m\n\u001b[0m\u001b[0;32m      4\u001b[0m \u001b[0mprint\u001b[0m\u001b[1;33m(\u001b[0m\u001b[0mcities\u001b[0m\u001b[1;33m)\u001b[0m\u001b[1;33m\u001b[0m\u001b[1;33m\u001b[0m\u001b[0m\n\u001b[0;32m      5\u001b[0m \u001b[1;33m\u001b[0m\u001b[0m\n",
      "\u001b[1;31mMemoryError\u001b[0m: "
     ]
    }
   ],
   "source": [
    "cities=['Hyderabad','Bengalore']\n",
    "for i in cities:\n",
    "    cities.append(i.upper())\n",
    "print(cities)\n",
    "\n",
    "\n"
   ]
  },
  {
   "cell_type": "code",
   "execution_count": 12,
   "metadata": {},
   "outputs": [
    {
     "name": "stdout",
     "output_type": "stream",
     "text": [
      "['srinivas', 'male', 2000]\n",
      "srinivas\n",
      "male\n",
      "2000\n"
     ]
    }
   ],
   "source": [
    "lsta=['srinivas','male',2000]\n",
    "print(lst)\n",
    "i=0;\n",
    "\n",
    "for i in lsta:\n",
    "#     i+=1\n",
    "    print(i)\n"
   ]
  },
  {
   "cell_type": "code",
   "execution_count": 16,
   "metadata": {},
   "outputs": [
    {
     "ename": "TypeError",
     "evalue": "sequence item 2: expected str instance, int found",
     "output_type": "error",
     "traceback": [
      "\u001b[1;31m---------------------------------------------------------------------------\u001b[0m",
      "\u001b[1;31mTypeError\u001b[0m                                 Traceback (most recent call last)",
      "\u001b[1;32m<ipython-input-16-16c518a3d5b8>\u001b[0m in \u001b[0;36m<module>\u001b[1;34m\u001b[0m\n\u001b[0;32m      1\u001b[0m \u001b[0mlsta\u001b[0m\u001b[1;33m=\u001b[0m\u001b[1;33m[\u001b[0m\u001b[1;34m'srinivas'\u001b[0m\u001b[1;33m,\u001b[0m\u001b[1;34m'male'\u001b[0m\u001b[1;33m,\u001b[0m\u001b[1;34m'2000'\u001b[0m\u001b[1;33m]\u001b[0m\u001b[1;33m\u001b[0m\u001b[1;33m\u001b[0m\u001b[0m\n\u001b[1;32m----> 2\u001b[1;33m \u001b[0mres\u001b[0m\u001b[1;33m=\u001b[0m\u001b[1;34m'#'\u001b[0m\u001b[1;33m.\u001b[0m\u001b[0mjoin\u001b[0m\u001b[1;33m(\u001b[0m\u001b[0mlst\u001b[0m\u001b[1;33m)\u001b[0m\u001b[1;33m\u001b[0m\u001b[1;33m\u001b[0m\u001b[0m\n\u001b[0m\u001b[0;32m      3\u001b[0m \u001b[0mprint\u001b[0m\u001b[1;33m(\u001b[0m\u001b[0mres\u001b[0m\u001b[1;33m)\u001b[0m\u001b[1;33m\u001b[0m\u001b[1;33m\u001b[0m\u001b[0m\n",
      "\u001b[1;31mTypeError\u001b[0m: sequence item 2: expected str instance, int found"
     ]
    }
   ],
   "source": [
    "lsta=['srinivas','male','2000']\n",
    "res='#'.join(lst)\n",
    "print(res)\n"
   ]
  },
  {
   "cell_type": "code",
   "execution_count": 14,
   "metadata": {},
   "outputs": [
    {
     "name": "stdout",
     "output_type": "stream",
     "text": [
      "<__main__.Birds object at 0x0000018F1091E9E8>\n"
     ]
    }
   ],
   "source": [
    "class Birds:\n",
    "    wings=2\n",
    "    eyes=3\n",
    "a=Birds()\n",
    "\n",
    "# a.eyes\n",
    "# print(\"what is a\"a)\n",
    "print(a)\n",
    "    \n",
    "    "
   ]
  },
  {
   "cell_type": "code",
   "execution_count": 35,
   "metadata": {},
   "outputs": [
    {
     "name": "stdout",
     "output_type": "stream",
     "text": [
      "<__main__.Birds object at 0x0000018F109A4D30>\n"
     ]
    }
   ],
   "source": [
    "class Birds:\n",
    "    wings=2\n",
    "    eyes=3\n",
    "    def fly():\n",
    "        print(\"i can fly \")\n",
    "a=Birds()\n",
    "\n",
    "\n",
    "# a.eyes\n",
    "# print(\"what is a\"a)\n",
    "# Birds.fly()    \n",
    "print(a)\n",
    "    "
   ]
  },
  {
   "cell_type": "code",
   "execution_count": 44,
   "metadata": {},
   "outputs": [
    {
     "name": "stdout",
     "output_type": "stream",
     "text": [
      "i can fly \n",
      "display birds information\n"
     ]
    }
   ],
   "source": [
    "class Birds:\n",
    "    wings=2\n",
    "    eyes=3\n",
    "    def fly(self):\n",
    "        print(\"i can fly \")\n",
    "    def display(self):\n",
    "        print(\"display birds information\")\n",
    "a=Birds()\n",
    "# a.eyes\n",
    "a.fly()\n",
    "a.display()\n",
    "\n",
    "# //self can access all variables in class\n",
    "# "
   ]
  },
  {
   "cell_type": "code",
   "execution_count": 49,
   "metadata": {},
   "outputs": [
    {
     "name": "stdout",
     "output_type": "stream",
     "text": [
      "school-------------------> DPS\n",
      "loc---------------------> PKL\n"
     ]
    },
    {
     "ename": "TypeError",
     "evalue": "display() takes 0 positional arguments but 1 was given",
     "output_type": "error",
     "traceback": [
      "\u001b[1;31m---------------------------------------------------------------------------\u001b[0m",
      "\u001b[1;31mTypeError\u001b[0m                                 Traceback (most recent call last)",
      "\u001b[1;32m<ipython-input-49-5b67996f4fe8>\u001b[0m in \u001b[0;36m<module>\u001b[1;34m\u001b[0m\n\u001b[0;32m     10\u001b[0m \u001b[1;31m# a.eyes\u001b[0m\u001b[1;33m\u001b[0m\u001b[1;33m\u001b[0m\u001b[1;33m\u001b[0m\u001b[0m\n\u001b[0;32m     11\u001b[0m \u001b[0ms1\u001b[0m\u001b[1;33m.\u001b[0m\u001b[0mprints\u001b[0m\u001b[1;33m(\u001b[0m\u001b[1;33m)\u001b[0m\u001b[1;33m\u001b[0m\u001b[1;33m\u001b[0m\u001b[0m\n\u001b[1;32m---> 12\u001b[1;33m \u001b[0ms1\u001b[0m\u001b[1;33m.\u001b[0m\u001b[0mdisplay\u001b[0m\u001b[1;33m(\u001b[0m\u001b[1;33m)\u001b[0m\u001b[1;33m\u001b[0m\u001b[1;33m\u001b[0m\u001b[0m\n\u001b[0m\u001b[0;32m     13\u001b[0m \u001b[1;33m\u001b[0m\u001b[0m\n\u001b[0;32m     14\u001b[0m \u001b[1;31m# //self can access all variables in class\u001b[0m\u001b[1;33m\u001b[0m\u001b[1;33m\u001b[0m\u001b[1;33m\u001b[0m\u001b[0m\n",
      "\u001b[1;31mTypeError\u001b[0m: display() takes 0 positional arguments but 1 was given"
     ]
    }
   ],
   "source": [
    "class School:\n",
    "    school='DPS'\n",
    "    loc='PKL'\n",
    "    def prints(self):\n",
    "        print(\"school------------------->\",self.school)\n",
    "        print(\"loc--------------------->\",self.loc)        \n",
    "    def display(self):\n",
    "        print(\"display school information\")\n",
    "s1=School()\n",
    "# a.eyes\n",
    "s1.prints()\n",
    "s1.display()\n",
    "\n",
    "# //self can access all variables in class\n",
    "# "
   ]
  },
  {
   "cell_type": "code",
   "execution_count": 60,
   "metadata": {},
   "outputs": [
    {
     "name": "stdout",
     "output_type": "stream",
     "text": [
      "display comp information 8 64\n",
      "display comp information 10 120\n"
     ]
    }
   ],
   "source": [
    "class Computer:\n",
    "    def __init__(self,cpu,ram):\n",
    "            self.cpu=cpu\n",
    "            self.ram=ram\n",
    "            \n",
    "    def display(self):\n",
    "        print(\"display comp information\",self.cpu,self.ram)\n",
    "        \n",
    "c1=Computer('8','64')\n",
    "c2=Computer('10','120')\n",
    "\n",
    "# c1---this is object\n",
    "# display()--automatically calls init \n",
    "\n",
    "\n",
    "c1.display()\n",
    "c2.display()\n",
    "\n",
    "\n",
    "        \n",
    "        \n",
    "        \n",
    "# //self can access all variables in class\n",
    "# "
   ]
  },
  {
   "cell_type": "code",
   "execution_count": 64,
   "metadata": {},
   "outputs": [
    {
     "name": "stdout",
     "output_type": "stream",
     "text": [
      "display comp information------> 15 25\n",
      "display comp information------> 15 25\n"
     ]
    }
   ],
   "source": [
    "class Computer:\n",
    "#     def __init__(self,pu,ram):\n",
    "#             self.cpu=cpu\n",
    "#             self.ram=ram\n",
    "            \n",
    "    def display(self):\n",
    "        print(\"display comp information------>\",'15','25')\n",
    "        \n",
    "c1=Computer()\n",
    "c2=Computer()\n",
    "\n",
    "# c1---this is object\n",
    "# display()--automatically calls init \n",
    "\n",
    "\n",
    "c1.display()\n",
    "c2.display()\n",
    "\n",
    "\n",
    "        \n",
    "        \n",
    "        \n",
    "# //self can access all variables in class\n",
    "# "
   ]
  },
  {
   "cell_type": "code",
   "execution_count": null,
   "metadata": {},
   "outputs": [],
   "source": []
  },
  {
   "cell_type": "code",
   "execution_count": 75,
   "metadata": {},
   "outputs": [
    {
     "name": "stdout",
     "output_type": "stream",
     "text": [
      "computer information------> 15 25\n",
      "computer information------>\n",
      "computer information------> 21 44\n",
      "computer information------>\n"
     ]
    }
   ],
   "source": [
    "class Computer:\n",
    "    def __init__(self,cpu,ram):\n",
    "          self.cpu=cpu\n",
    "          self.ram=ram\n",
    "            \n",
    "    def display(self):\n",
    "        print(\"computer information------>\",self.cpu,self.ram)\n",
    "        print(\"computer information------>\")\n",
    "\n",
    "c1=Computer('15','25')\n",
    "\n",
    "# c1 here is equaivalent to (self,'15','25')\n",
    "# here you are passing three parameters self,15,25---self is by default\n",
    "c2=Computer('21','44')\n",
    "\n",
    "# c1---this is object\n",
    "# display()--automatically calls init \n",
    "\n",
    "\n",
    "c1.display()\n",
    "c2.display()\n",
    "\n",
    "\n",
    "        \n",
    "        \n",
    "        \n",
    "# //self can access all variables in class\n",
    "# "
   ]
  },
  {
   "cell_type": "code",
   "execution_count": 7,
   "metadata": {},
   "outputs": [
    {
     "ename": "TypeError",
     "evalue": "display() takes 0 positional arguments but 1 was given",
     "output_type": "error",
     "traceback": [
      "\u001b[1;31m---------------------------------------------------------------------------\u001b[0m",
      "\u001b[1;31mTypeError\u001b[0m                                 Traceback (most recent call last)",
      "\u001b[1;32m<ipython-input-7-f6771935a851>\u001b[0m in \u001b[0;36m<module>\u001b[1;34m\u001b[0m\n\u001b[0;32m      4\u001b[0m         \u001b[0mprint\u001b[0m\u001b[1;33m(\u001b[0m\u001b[1;34m\"rooms\"\u001b[0m\u001b[1;33m,\u001b[0m\u001b[0mself\u001b[0m\u001b[1;33m.\u001b[0m\u001b[0mx\u001b[0m\u001b[1;33m)\u001b[0m\u001b[1;33m\u001b[0m\u001b[1;33m\u001b[0m\u001b[0m\n\u001b[0;32m      5\u001b[0m \u001b[0mf1\u001b[0m\u001b[1;33m=\u001b[0m\u001b[0mFlat\u001b[0m\u001b[1;33m(\u001b[0m\u001b[1;33m)\u001b[0m\u001b[1;33m\u001b[0m\u001b[1;33m\u001b[0m\u001b[0m\n\u001b[1;32m----> 6\u001b[1;33m \u001b[0mprint\u001b[0m\u001b[1;33m(\u001b[0m\u001b[0mf1\u001b[0m\u001b[1;33m.\u001b[0m\u001b[0mdisplay\u001b[0m\u001b[1;33m(\u001b[0m\u001b[1;33m)\u001b[0m\u001b[1;33m)\u001b[0m\u001b[1;33m\u001b[0m\u001b[1;33m\u001b[0m\u001b[0m\n\u001b[0m\u001b[0;32m      7\u001b[0m \u001b[0mf1\u001b[0m\u001b[1;33m.\u001b[0m\u001b[0mdisplay\u001b[0m\u001b[1;33m(\u001b[0m\u001b[1;33m)\u001b[0m\u001b[1;33m\u001b[0m\u001b[1;33m\u001b[0m\u001b[0m\n\u001b[0;32m      8\u001b[0m \u001b[0mFlat\u001b[0m\u001b[1;33m.\u001b[0m\u001b[0minfo\u001b[0m\u001b[1;33m(\u001b[0m\u001b[0mf1\u001b[0m\u001b[1;33m)\u001b[0m\u001b[1;33m\u001b[0m\u001b[1;33m\u001b[0m\u001b[0m\n",
      "\u001b[1;31mTypeError\u001b[0m: display() takes 0 positional arguments but 1 was given"
     ]
    }
   ],
   "source": [
    "class Flat:\n",
    "    x=2\n",
    "    def display():\n",
    "        print(\"rooms\",self.x)\n",
    "f1=Flat()\n",
    "print(f1.display())\n",
    "f1.display()\n",
    "# f1.display() is equivalent to Flat.info(f1)\n",
    "# position parameters expecting value here in the definition\n",
    "\n",
    "\n",
    "\n"
   ]
  },
  {
   "cell_type": "code",
   "execution_count": 37,
   "metadata": {},
   "outputs": [
    {
     "name": "stdout",
     "output_type": "stream",
     "text": [
      "rooms####################### 2\n",
      "rooms\n"
     ]
    }
   ],
   "source": [
    "class Flat:\n",
    "    x=2\n",
    "    def display(self):\n",
    "        print(\"rooms#######################\",self.x)\n",
    "    def display2(self):\n",
    "        print(\"rooms\")\n",
    "\n",
    "f1=Flat()\n",
    "f1.display()\n",
    "f1.display2()\n",
    "# f1.display() is equivalent to Flat.info(f1)"
   ]
  },
  {
   "cell_type": "code",
   "execution_count": 31,
   "metadata": {},
   "outputs": [
    {
     "name": "stdout",
     "output_type": "stream",
     "text": [
      "student informationssss\n"
     ]
    }
   ],
   "source": [
    "class Student:\n",
    "    \n",
    "    def abc(self):\n",
    "        print(\"student information\")\n",
    "    \n",
    "    def __init__(self):\n",
    "        print(\"student informationssss\")\n",
    "        \n",
    "    s1=Student()\n",
    "#     s1.abc()\n",
    "    \n",
    "#     when you create a object ,initialisation method(init) is called in python \n",
    "#     s1\n",
    "        \n",
    "        \n",
    "    "
   ]
  },
  {
   "cell_type": "code",
   "execution_count": 48,
   "metadata": {},
   "outputs": [
    {
     "name": "stdout",
     "output_type": "stream",
     "text": [
      "student information$$$$$$$$$$$$$$$$$\n",
      "rooms= 2\n",
      "student information\n"
     ]
    }
   ],
   "source": [
    "class Flat:\n",
    "    room =2\n",
    "    def abc(self):\n",
    "        print(\"student information$$$$$$$$$$$$$$$$$\")\n",
    "        print(\"rooms=\",self.room)\n",
    "        print(\"student information\")\n",
    "#     def abc(self):\n",
    "#         print(\"student information$$$$$$$$$$$$$$$$$\")\n",
    "#         print(\"rooms=\",self.room)\n",
    "#         print(\"student information\")\n",
    "        \n",
    "s1=Flat()\n",
    "s1.abc()\n",
    "# s1\n",
    "      \n",
    "    \n",
    "    "
   ]
  },
  {
   "cell_type": "code",
   "execution_count": 59,
   "metadata": {},
   "outputs": [
    {
     "name": "stdout",
     "output_type": "stream",
     "text": [
      "student information$$$$$$$$$$$$$$$$$\n",
      "rooms= 2\n",
      "student information\n",
      "color= blue\n"
     ]
    }
   ],
   "source": [
    "class Flat:\n",
    "    room =2\n",
    "    def abc(self):\n",
    "        print(\"student information$$$$$$$$$$$$$$$$$\")\n",
    "        print(\"rooms=\",self.room)\n",
    "        print(\"student information\")\n",
    "        self.color='blue'\n",
    "#     def abc(self):\n",
    "#         print(\"student information$$$$$$$$$$$$$$$$$\")\n",
    "#         print(\"rooms=\",self.room)\n",
    "#         print(\"student information\")\n",
    "        \n",
    "s1=Flat()\n",
    "s1.abc()\n",
    "# s1.color()\n",
    "# print(\"color################=\",s1.color())\n",
    "print(\"color=\",s1.color)\n",
    "# s1\n",
    "      \n",
    "    \n",
    "    "
   ]
  }
 ],
 "metadata": {
  "kernelspec": {
   "display_name": "Python 3",
   "language": "python",
   "name": "python3"
  },
  "language_info": {
   "codemirror_mode": {
    "name": "ipython",
    "version": 3
   },
   "file_extension": ".py",
   "mimetype": "text/x-python",
   "name": "python",
   "nbconvert_exporter": "python",
   "pygments_lexer": "ipython3",
   "version": "3.7.3"
  }
 },
 "nbformat": 4,
 "nbformat_minor": 2
}
